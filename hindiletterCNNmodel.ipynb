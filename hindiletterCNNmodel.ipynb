{
 "cells": [
  {
   "cell_type": "code",
   "execution_count": 27,
   "metadata": {
    "collapsed": true
   },
   "outputs": [],
   "source": [
    "import numpy as np\n",
    "import pandas as pd\n",
    "from keras import layers\n",
    "from keras.layers import Input, Dense, Activation, ZeroPadding2D, BatchNormalization, Flatten, Conv2D\n",
    "from keras.layers import AveragePooling2D, MaxPooling2D, Dropout, GlobalMaxPooling2D, GlobalAveragePooling2D\n",
    "from keras.utils import np_utils, print_summary\n",
    "import keras.backend as K\n",
    "from keras.models import Sequential\n",
    "from keras.callbacks import ModelCheckpoint\n"
   ]
  },
  {
   "cell_type": "code",
   "execution_count": 28,
   "metadata": {
    "collapsed": true
   },
   "outputs": [],
   "source": [
    "data = pd.read_csv(\"data.csv\")\n",
    "dataset = np.array(data)\n",
    "np.random.shuffle(dataset)\n",
    "X = dataset\n",
    "Y = dataset\n",
    "X = X[:, 0:1024]\n",
    "Y = Y[:, 1024]\n",
    "X_train = X[0:70000, :]\n",
    "X_train = X_train / 255.\n",
    "X_test = X[70000:72001, :]\n",
    "X_test = X_test / 255.\n",
    "   # Reshape\n",
    "Y = Y.reshape(Y.shape[0], 1)\n",
    "Y_train = Y[0:70000, :]\n",
    "Y_train = Y_train.T\n",
    "Y_test = Y[70000:72001, :]\n",
    "Y_test = Y_test.T"
   ]
  },
  {
   "cell_type": "code",
   "execution_count": 29,
   "metadata": {},
   "outputs": [
    {
     "name": "stdout",
     "output_type": "stream",
     "text": [
      "number of training samples = 70000\n",
      "number of test samples = 2000\n",
      "X_train shape: (70000, 1024)\n",
      "Y_train shape: (1, 70000)\n",
      "X_test shape: (2000, 1024)\n",
      "Y_test shape: (1, 2000)\n"
     ]
    }
   ],
   "source": [
    "print(\"number of training samples = \" + str(X_train.shape[0]))\n",
    "print(\"number of test samples = \" + str(X_test.shape[0]))\n",
    "print(\"X_train shape: \" + str(X_train.shape))\n",
    "print(\"Y_train shape: \" + str(Y_train.shape))\n",
    "print(\"X_test shape: \" + str(X_test.shape))\n",
    "print(\"Y_test shape: \" + str(Y_test.shape))"
   ]
  },
  {
   "cell_type": "code",
   "execution_count": 19,
   "metadata": {
    "collapsed": true
   },
   "outputs": [],
   "source": [
    "image_x = 32 #height \n",
    "image_y = 32  #width\n",
    "train_y = np_utils.to_categorical(Y_train) #mporting from keras \n",
    "test_y = np_utils.to_categorical(Y_test)\n",
    "train_y = train_y.reshape(train_y.shape[1], train_y.shape[2])\n",
    "test_y = test_y.reshape(test_y.shape[1], test_y.shape[2])\n",
    "X_train = X_train.reshape(X_train.shape[0], image_x, image_y, 1)"
   ]
  },
  {
   "cell_type": "code",
   "execution_count": 20,
   "metadata": {},
   "outputs": [
    {
     "name": "stdout",
     "output_type": "stream",
     "text": [
      "X_train shape: (70000, 32, 32, 1)\n",
      "Y_train shape: (70000, 37)\n"
     ]
    }
   ],
   "source": [
    "print(\"X_train shape: \" + str(X_train.shape))\n",
    "print(\"Y_train shape: \" + str(train_y.shape))"
   ]
  },
  {
   "cell_type": "code",
   "execution_count": 21,
   "metadata": {
    "collapsed": true
   },
   "outputs": [],
   "source": [
    "# Buliding the sequential model that is output is stored in h5 file\n",
    "def keras_model(image_x,image_y):\n",
    "    num_of_classes = 37  #there are 35 classfied consonants letters in the hindi letters and two classes are for check\n",
    "    model = Sequential()\n",
    "    model.add(Conv2D(filters=32, kernel_size=(5, 5), input_shape=(image_x, image_y, 1), activation='relu'))\n",
    "    model.add(MaxPooling2D(pool_size=(2, 2), strides=(2, 2), padding='same'))\n",
    "    model.add(Conv2D(64, (5, 5), activation='relu'))\n",
    "    model.add(MaxPooling2D(pool_size=(5, 5), strides=(5, 5), padding='same'))\n",
    "    model.add(Flatten())\n",
    "    model.add(Dense(num_of_classes, activation='softmax'))\n",
    "    model.compile(loss='categorical_crossentropy', optimizer='adam', metrics=['accuracy'])\n",
    "    filepath = \"hindi_model.h5\"\n",
    "    checkpoint1 = ModelCheckpoint(filepath, monitor='val_acc', verbose=1, save_best_only=True, mode='max')\n",
    "    callbacks_list = [checkpoint1]\n",
    "\n",
    "    return model, callbacks_list"
   ]
  },
  {
   "cell_type": "code",
   "execution_count": 26,
   "metadata": {},
   "outputs": [
    {
     "name": "stdout",
     "output_type": "stream",
     "text": [
      "Train on 70000 samples, validate on 2000 samples\n",
      "Epoch 1/4\n",
      "70000/70000 [==============================] - 1118s 16ms/step - loss: 0.7491 - acc: 0.7863 - val_loss: 0.2846 - val_acc: 0.9080\n",
      "\n",
      "Epoch 00001: val_acc improved from -inf to 0.90800, saving model to hindi_model.h5\n",
      "Epoch 2/4\n",
      "70000/70000 [==============================] - 1085s 16ms/step - loss: 0.2316 - acc: 0.9303 - val_loss: 0.1782 - val_acc: 0.9385\n",
      "\n",
      "Epoch 00002: val_acc improved from 0.90800 to 0.93850, saving model to hindi_model.h5\n",
      "Epoch 3/4\n",
      "70000/70000 [==============================] - 1126s 16ms/step - loss: 0.1515 - acc: 0.9539 - val_loss: 0.1393 - val_acc: 0.9555\n",
      "\n",
      "Epoch 00003: val_acc improved from 0.93850 to 0.95550, saving model to hindi_model.h5\n",
      "Epoch 4/4\n",
      "70000/70000 [==============================] - 1078s 15ms/step - loss: 0.1098 - acc: 0.9668 - val_loss: 0.1143 - val_acc: 0.9650\n",
      "\n",
      "Epoch 00004: val_acc improved from 0.95550 to 0.96500, saving model to hindi_model.h5\n",
      "Convolutional neural network Error: 3.50%\n",
      "_________________________________________________________________\n",
      "Layer (type)                 Output Shape              Param #   \n",
      "=================================================================\n",
      "conv2d_13 (Conv2D)           (None, 28, 28, 32)        832       \n",
      "_________________________________________________________________\n",
      "max_pooling2d_13 (MaxPooling (None, 14, 14, 32)        0         \n",
      "_________________________________________________________________\n",
      "conv2d_14 (Conv2D)           (None, 10, 10, 64)        51264     \n",
      "_________________________________________________________________\n",
      "max_pooling2d_14 (MaxPooling (None, 2, 2, 64)          0         \n",
      "_________________________________________________________________\n",
      "flatten_7 (Flatten)          (None, 256)               0         \n",
      "_________________________________________________________________\n",
      "dense_7 (Dense)              (None, 37)                9509      \n",
      "=================================================================\n",
      "Total params: 61,605\n",
      "Trainable params: 61,605\n",
      "Non-trainable params: 0\n",
      "_________________________________________________________________\n"
     ]
    }
   ],
   "source": [
    "X_test = X_test.reshape(X_test.shape[0], 32, 32, 1)\n",
    "model, callbacks_list = keras_model(image_x, image_y)\n",
    "model.fit(X_train, train_y, validation_data=(X_test, test_y), epochs=4, batch_size=64,callbacks=callbacks_list)\n",
    "scores = model.evaluate(X_test, test_y, verbose=0)\n",
    "print(\"Convolutional neural network Error: %.2f%%\" % (100 - scores[1] * 100))\n",
    "print_summary(model)\n",
    "model.save('hindi_model.h5')\n"
   ]
  },
  {
   "cell_type": "code",
   "execution_count": null,
   "metadata": {
    "collapsed": true
   },
   "outputs": [],
   "source": []
  },
  {
   "cell_type": "code",
   "execution_count": null,
   "metadata": {
    "collapsed": true
   },
   "outputs": [],
   "source": []
  }
 ],
 "metadata": {
  "kernelspec": {
   "display_name": "Python 3",
   "language": "python",
   "name": "python3"
  },
  "language_info": {
   "codemirror_mode": {
    "name": "ipython",
    "version": 3
   },
   "file_extension": ".py",
   "mimetype": "text/x-python",
   "name": "python",
   "nbconvert_exporter": "python",
   "pygments_lexer": "ipython3",
   "version": "3.6.3"
  }
 },
 "nbformat": 4,
 "nbformat_minor": 2
}
